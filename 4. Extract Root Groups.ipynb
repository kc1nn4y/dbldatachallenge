{
 "cells": [
  {
   "cell_type": "markdown",
   "metadata": {},
   "source": [
    "#### Import the required libraries"
   ]
  },
  {
   "cell_type": "code",
   "execution_count": null,
   "metadata": {},
   "outputs": [],
   "source": [
    "import psycopg2 as psy\n",
    "import pandas as pd\n",
    "import json\n",
    "import os\n",
    "import time"
   ]
  },
  {
   "cell_type": "markdown",
   "metadata": {},
   "source": [
    "#### Establish connection with the PostgreSQL database"
   ]
  },
  {
   "cell_type": "code",
   "execution_count": null,
   "metadata": {},
   "outputs": [],
   "source": [
    "database_host = \"localhost\"\n",
    "database_name = \"dbl_data_challenge\"\n",
    "database_user = \"admin\"\n",
    "database_pass = \"vZtbqKNXGz27cQCH\""
   ]
  },
  {
   "cell_type": "code",
   "execution_count": null,
   "metadata": {},
   "outputs": [],
   "source": [
    "con = psy.connect(\n",
    "    host = database_host,\n",
    "    database = database_name,\n",
    "    user = database_user,\n",
    "    password = database_pass\n",
    ")\n",
    "cur = con.cursor()"
   ]
  },
  {
   "cell_type": "markdown",
   "metadata": {},
   "source": [
    "#### A dictionary containing all airlines and their twitter id"
   ]
  },
  {
   "cell_type": "code",
   "execution_count": null,
   "metadata": {},
   "outputs": [],
   "source": [
    "airlines = {\n",
    "    \"KLM\": \"56377143\",\n",
    "    \"AirFrance\": \"106062176\",\n",
    "    \"British_Airways\": \"18332190\",\n",
    "    \"AmericanAir\": \"22536055\",\n",
    "    \"Lufthansa\": \"124476322\",\n",
    "    \"AirBerlin\": \"26223583\",\n",
    "    \"AirBerlin assist\": \"2182373406\",\n",
    "    \"easyJet\": \"38676903\",\n",
    "    \"RyanAir\": \"1542862735\",\n",
    "    \"SingaporeAir\": \"253340062\",\n",
    "    \"Qantas\": \"218730857\",\n",
    "    \"EtihadAirways\": \"45621423\",\n",
    "    \"VirginAtlantic\": \"20626359\"\n",
    "}"
   ]
  },
  {
   "cell_type": "markdown",
   "metadata": {},
   "source": [
    "#### Create talble which will contain root group pairs"
   ]
  },
  {
   "cell_type": "code",
   "execution_count": null,
   "metadata": {},
   "outputs": [],
   "source": [
    "cur.execute(\"\"\"\n",
    "    DROP TABLE IF EXISTS root_groups\n",
    "\"\"\")\n",
    "\n",
    "cur.execute(\"\"\"\n",
    "    CREATE TABLE root_groups (id_str VARCHAR(50), root_id VARCHAR(50), level INT)\n",
    "\"\"\")"
   ]
  },
  {
   "cell_type": "code",
   "execution_count": null,
   "metadata": {},
   "outputs": [],
   "source": [
    "cur.execute(\"\"\"\n",
    "    SELECT * FROM replies\n",
    "\"\"\")\n",
    "\n",
    "data = cur.fetchall()\n",
    "\n",
    "reply_pairs = {}\n",
    "\n",
    "for row in data: \n",
    "    if row[0] in reply_pairs: \n",
    "        reply_pairs[row[0]].append(row[1])\n",
    "    else: \n",
    "        reply_pairs[row[0]] = [row[1]]"
   ]
  },
  {
   "cell_type": "markdown",
   "metadata": {},
   "source": [
    "#### Get all the rout groups by iterating over all the tweets made by airlines which are not a reply"
   ]
  },
  {
   "cell_type": "code",
   "execution_count": null,
   "metadata": {
    "scrolled": true
   },
   "outputs": [],
   "source": [
    "for airline in airlines: \n",
    "    start = time.time()\n",
    "    print(\"Getting root groups by \"+airline)\n",
    "    airline_id = airlines[airline]\n",
    "    cur.execute(\"\"\"\n",
    "        SELECT id_str FROM tweets WHERE user_id_str = %(airline_id)s AND in_reply_to_status_id_str IS NULL\n",
    "    \"\"\", {\"airline_id\": airline_id})\n",
    "    data = cur.fetchall()\n",
    "    print(str(len(data))+\" possible root groups found\")\n",
    "    for idx, row in enumerate(data): \n",
    "        a1 = row[0]\n",
    "        try: \n",
    "            b = reply_pairs[a1]\n",
    "            cur.execute(\"\"\"\n",
    "                INSERT INTO root_groups (id_str, root_id, level) VALUES (%(id_str)s, %(aba_id)s, %(level)s)\n",
    "            \"\"\", {\"id_str\": a1, \"aba_id\": a1, \"level\": 1})\n",
    "            for value in b: \n",
    "                cur.execute(\"\"\"\n",
    "                    INSERT INTO root_groups (id_str, root_id, level) VALUES (%(id_str)s, %(aba_id)s, %(level)s)\n",
    "                \"\"\", {\"id_str\": value, \"aba_id\": a1, \"level\": 2})\n",
    "        except KeyError: \n",
    "            pass\n",
    "        if (idx+1) % 50 == 0: \n",
    "            print(\"Currently at \"+str(idx+1)+\"/\"+str(len(data))+\" in \"+str(time.time()-start)+\"s\")\n",
    "            start = time.time()\n",
    "con.commit()"
   ]
  },
  {
   "cell_type": "code",
   "execution_count": null,
   "metadata": {},
   "outputs": [],
   "source": [
    "cur.close()\n",
    "con.close()"
   ]
  },
  {
   "cell_type": "code",
   "execution_count": null,
   "metadata": {},
   "outputs": [],
   "source": []
  }
 ],
 "metadata": {
  "kernelspec": {
   "display_name": "Python 3",
   "language": "python",
   "name": "python3"
  },
  "language_info": {
   "codemirror_mode": {
    "name": "ipython",
    "version": 3
   },
   "file_extension": ".py",
   "mimetype": "text/x-python",
   "name": "python",
   "nbconvert_exporter": "python",
   "pygments_lexer": "ipython3",
   "version": "3.8.5"
  }
 },
 "nbformat": 4,
 "nbformat_minor": 4
}
