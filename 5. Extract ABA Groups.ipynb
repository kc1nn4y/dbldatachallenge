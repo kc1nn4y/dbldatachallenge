{
 "cells": [
  {
   "cell_type": "markdown",
   "metadata": {},
   "source": [
    "#### Import the required libraries"
   ]
  },
  {
   "cell_type": "code",
   "execution_count": null,
   "metadata": {},
   "outputs": [],
   "source": [
    "import psycopg2 as psy\n",
    "import pandas as pd\n",
    "import json\n",
    "import os\n",
    "import time"
   ]
  },
  {
   "cell_type": "markdown",
   "metadata": {},
   "source": [
    "#### Establish connection with the PostgreSQL database"
   ]
  },
  {
   "cell_type": "code",
   "execution_count": null,
   "metadata": {},
   "outputs": [],
   "source": [
    "database_host = \"localhost\"\n",
    "database_name = \"dbl_data_challenge\"\n",
    "database_user = \"admin\"\n",
    "database_pass = \"vZtbqKNXGz27cQCH\""
   ]
  },
  {
   "cell_type": "code",
   "execution_count": null,
   "metadata": {},
   "outputs": [],
   "source": [
    "con = psy.connect(\n",
    "    host = database_host,\n",
    "    database = database_name,\n",
    "    user = database_user,\n",
    "    password = database_pass\n",
    ")\n",
    "cur = con.cursor()"
   ]
  },
  {
   "cell_type": "markdown",
   "metadata": {},
   "source": [
    "#### Creates the table in which the aba groups will be stored"
   ]
  },
  {
   "cell_type": "code",
   "execution_count": null,
   "metadata": {},
   "outputs": [],
   "source": [
    "cur.execute(\"\"\"\n",
    "    CREATE TABLE IF NOT EXISTS aba_groups (id_str VARCHAR(50), aba_id VARCHAR(50), level INT, conversation_id VARCHAR(50), airline_id VARCHAR(50))\n",
    "\"\"\")"
   ]
  },
  {
   "cell_type": "markdown",
   "metadata": {},
   "source": [
    "#### This gets all the reply pairs from the replies table"
   ]
  },
  {
   "cell_type": "code",
   "execution_count": null,
   "metadata": {},
   "outputs": [],
   "source": [
    "cur.execute(\"\"\"\n",
    "    SELECT * FROM replies\n",
    "\"\"\")\n",
    "\n",
    "data = cur.fetchall()\n",
    "\n",
    "reply_pairs = {}\n",
    "\n",
    "for row in data: \n",
    "    if row[0] in reply_pairs: \n",
    "        reply_pairs[row[0]].append(row[1])\n",
    "    else: \n",
    "        reply_pairs[row[0]] = [row[1]]"
   ]
  },
  {
   "cell_type": "markdown",
   "metadata": {},
   "source": [
    "#### Airlines that are commented out down below will be skipped, this makes it possible to load airlines in batches. Note that not commenting out an airline will make it so that all its entries are removed from the table, so it will start loading all over again for that airline"
   ]
  },
  {
   "cell_type": "code",
   "execution_count": null,
   "metadata": {},
   "outputs": [],
   "source": [
    "airlines = {\n",
    "    \"KLM\": \"56377143\",\n",
    "    \"AirFrance\": \"106062176\",\n",
    "    \"British_Airways\": \"18332190\",\n",
    "    \"AmericanAir\": \"22536055\",\n",
    "    \"Lufthansa\": \"124476322\",\n",
    "    \"AirBerlin\": \"26223583\",\n",
    "    \"AirBerlin assist\": \"2182373406\",\n",
    "    \"easyJet\": \"38676903\",\n",
    "    \"RyanAir\": \"1542862735\",\n",
    "    \"SingaporeAir\": \"253340062\",\n",
    "    \"Qantas\": \"218730857\",\n",
    "    \"EtihadAirways\": \"45621423\",\n",
    "    \"VirginAtlantic\": \"20626359\"\n",
    "}"
   ]
  },
  {
   "cell_type": "markdown",
   "metadata": {},
   "source": [
    "#### The following cells iterate over the airlines put in above: it removes all the aba-groups related to that airline and starts all over inserting values again for that airline, now you can skip airlines that you have already loaded in"
   ]
  },
  {
   "cell_type": "code",
   "execution_count": null,
   "metadata": {
    "scrolled": true
   },
   "outputs": [],
   "source": [
    "for airline in airlines: \n",
    "    start = time.time()\n",
    "    print(\"Getting aba groups by \"+airline)\n",
    "    airline_id = airlines[airline]\n",
    "    cur.execute(\"\"\"\n",
    "        DELETE FROM aba_groups WHERE airline_id = %(airline_id)s\n",
    "    \"\"\", {\"airline_id\": airline_id})\n",
    "    cur.execute(\"\"\"\n",
    "        SELECT id_str, in_reply_to_status_id_str FROM tweets WHERE user_id_str = %(airline_id)s\n",
    "    \"\"\", {\"airline_id\": airline_id})\n",
    "    data = cur.fetchall()\n",
    "    print(str(len(data))+\" possible aba groups found\")\n",
    "    for idx, row in enumerate(data): \n",
    "        a1 = row[1]\n",
    "        b = row[0]\n",
    "        try: \n",
    "            a2 = reply_pairs[row[0]]\n",
    "            cur.execute(\"\"\"\n",
    "                SELECT conversation_id FROM conversation_ids WHERE tweet_id = %(a1)s\n",
    "            \"\"\", {\"a1\": a1})\n",
    "            conversation_id = cur.fetchall()\n",
    "            if len(conversation_id) > 0: \n",
    "                cur.execute(\"\"\"\n",
    "                    INSERT INTO aba_groups (id_str, aba_id, level, conversation_id, airline_id) VALUES (%(id_str)s, %(aba_id)s, %(level)s, %(conversation_id)s, %(airline_id)s)\n",
    "                \"\"\", {\"id_str\": a1, \"aba_id\": b, \"level\": 1, \"conversation_id\": conversation_id[0], \"airline_id\": airline_id})\n",
    "                cur.execute(\"\"\"\n",
    "                    INSERT INTO aba_groups (id_str, aba_id, level, conversation_id, airline_id) VALUES (%(id_str)s, %(aba_id)s, %(level)s, %(conversation_id)s, %(airline_id)s)\n",
    "                \"\"\", {\"id_str\": b, \"aba_id\": b, \"level\": 2, \"conversation_id\": conversation_id[0], \"airline_id\": airline_id})\n",
    "                for value in a2: \n",
    "                    cur.execute(\"\"\"\n",
    "                        INSERT INTO aba_groups (id_str, aba_id, level, conversation_id, airline_id) VALUES (%(id_str)s, %(aba_id)s, %(level)s, %(conversation_id)s, %(airline_id)s)\n",
    "                    \"\"\", {\"id_str\": value, \"aba_id\": b, \"level\": 3, \"conversation_id\": conversation_id[0], \"airline_id\": airline_id})\n",
    "        except KeyError: \n",
    "            pass\n",
    "        if (idx+1) % 500 == 0: \n",
    "            print(\"Currently at \"+str(idx+1)+\"/\"+str(len(data))+\" in \"+str(time.time()-start)+\"s\")\n",
    "            start = time.time()\n",
    "    con.commit()\n",
    "    print(\"Finished loading aba-groups for \"+airline)\n",
    "con.commit()"
   ]
  },
  {
   "cell_type": "code",
   "execution_count": null,
   "metadata": {},
   "outputs": [],
   "source": [
    "cur.close()\n",
    "con.close()"
   ]
  },
  {
   "cell_type": "code",
   "execution_count": null,
   "metadata": {},
   "outputs": [],
   "source": []
  }
 ],
 "metadata": {
  "kernelspec": {
   "display_name": "Python 3",
   "language": "python",
   "name": "python3"
  },
  "language_info": {
   "codemirror_mode": {
    "name": "ipython",
    "version": 3
   },
   "file_extension": ".py",
   "mimetype": "text/x-python",
   "name": "python",
   "nbconvert_exporter": "python",
   "pygments_lexer": "ipython3",
   "version": "3.8.5"
  }
 },
 "nbformat": 4,
 "nbformat_minor": 4
}
