{
 "cells": [
  {
   "cell_type": "markdown",
   "metadata": {},
   "source": [
    "#### Import and install the required libraries"
   ]
  },
  {
   "cell_type": "code",
   "execution_count": null,
   "metadata": {},
   "outputs": [],
   "source": [
    "pip install wordcloud"
   ]
  },
  {
   "cell_type": "code",
   "execution_count": null,
   "metadata": {},
   "outputs": [],
   "source": [
    "import pandas as pd\n",
    "import numpy as np\n",
    "import seaborn as sns\n",
    "import matplotlib.ticker as mtick\n",
    "import matplotlib as mpl\n",
    "import matplotlib.pyplot as plt\n",
    "import warnings"
   ]
  },
  {
   "cell_type": "code",
   "execution_count": null,
   "metadata": {},
   "outputs": [],
   "source": [
    "from wordcloud import WordCloud, STOPWORDS "
   ]
  },
  {
   "cell_type": "code",
   "execution_count": null,
   "metadata": {},
   "outputs": [],
   "source": [
    "sns.set()\n",
    "plt.rcParams['figure.figsize'] = [10, 5]\n",
    "plt.rcParams['lines.markeredgewidth'] = 1\n",
    "warnings.filterwarnings(\"ignore\", category=FutureWarning) \n",
    "%matplotlib inline"
   ]
  },
  {
   "cell_type": "code",
   "execution_count": null,
   "metadata": {},
   "outputs": [],
   "source": [
    "df_aba_sent = pd.read_csv('df_aba_sent.csv')\n",
    "df_root_sent = pd.read_csv(\"df_root_sent.csv\")\n",
    "df_aba_sent.drop(['Unnamed: 0'], axis=1, inplace=True)\n",
    "df_root_sent.drop(['Unnamed: 0'], axis=1, inplace=True)"
   ]
  },
  {
   "cell_type": "markdown",
   "metadata": {},
   "source": [
    "#### Initialize dataframes from csv files created in the previous notebook"
   ]
  },
  {
   "cell_type": "code",
   "execution_count": null,
   "metadata": {},
   "outputs": [],
   "source": [
    "df_aba_sent.loc[df_aba_sent['our_sent']=='minor_positive_change', 'our_sent']='Positive change'\n",
    "df_aba_sent.loc[df_aba_sent['our_sent']=='minor_negative_change', 'our_sent']='Negative change'\n",
    "df_aba_sent.loc[df_aba_sent['our_sent']=='positive_change', 'our_sent']='Positive change'\n",
    "df_aba_sent.loc[df_aba_sent['our_sent']=='negative_change', 'our_sent']='Negative change'\n",
    "df_aba_sent.loc[df_aba_sent['our_sent']=='no_change', 'our_sent']='No change'"
   ]
  },
  {
   "cell_type": "markdown",
   "metadata": {},
   "source": [
    "#### Airlines and their Twitter user ids"
   ]
  },
  {
   "cell_type": "code",
   "execution_count": null,
   "metadata": {},
   "outputs": [],
   "source": [
    "airlines = {\n",
    "    'KLM':56377143, \n",
    "    'AirFrance': 106062176, \n",
    "    'British_Airways': 18332190, \n",
    "    'AmericanAir': 22536055, \n",
    "    'Lufthansa': 124476322, \n",
    "    'AirBerlin': 26223583, \n",
    "    'AirBerlinAssist': 2182373406, \n",
    "    'easyJet': 38676903, \n",
    "    'RyanAir': 1542862735, \n",
    "    'SingaporeAir': 253340062, \n",
    "    'Qantas': 218730857, \n",
    "    'EtihadAirways': 45621423, \n",
    "    'VirginAtlantic': 20626359\n",
    "}"
   ]
  },
  {
   "cell_type": "markdown",
   "metadata": {},
   "source": [
    "#### Root conversations visualizations and analysis\n",
    "#### KLM"
   ]
  },
  {
   "cell_type": "code",
   "execution_count": null,
   "metadata": {},
   "outputs": [],
   "source": [
    "klm_root_tweets = df_root_sent[(df_root_sent[\"user_id_str\"] == 56377143) & (df_root_sent[\"root_level\"] == 1)]\n",
    "list_tid_klm_root = klm_root_tweets[\"id_str\"]\n",
    "\n",
    "df_replies_to_klm = df_root_sent[(df_root_sent[\"root_id\"].isin(list_tid_klm_root)) & (df_root_sent[\"root_level\"] == 2)]\n",
    "\n",
    "average_nr_of_replies_to_klm = len(df_replies_to_klm) / len(klm_root_tweets)\n",
    "negative_nr_of_replies_klm = len(df_replies_to_klm[df_replies_to_klm[\"our_sent\"] == \"negative\"])\n",
    "positive_nr_of_replies_klm = len(df_replies_to_klm[df_replies_to_klm[\"our_sent\"] == \"positive\"])\n",
    "neutral_nr_of_replies_klm = len(df_replies_to_klm[df_replies_to_klm[\"our_sent\"] == \"neutral\"])\n",
    "\n",
    "total_volume_klm = (len(klm_root_tweets), int(round(average_nr_of_replies_to_klm, 0)))\n",
    "response_time_klm = list()\n",
    "for index, row in klm_root_tweets.iterrows():\n",
    "    time_root = row[\"timestamp_ms\"]\n",
    "    tid = row[\"id_str\"]\n",
    "    response_time_klm.append(((df_replies_to_klm[df_replies_to_klm[\"root_id\"] == tid][\"timestamp_ms\"] - time_root) / 3600000).mean())\n",
    "\n",
    "df_response_time_klm = pd.DataFrame(response_time_klm)\n",
    "df_response_time_klm = df_response_time_klm[(df_response_time_klm[0] < 168.629028)]"
   ]
  },
  {
   "cell_type": "markdown",
   "metadata": {},
   "source": [
    "#### British Airways"
   ]
  },
  {
   "cell_type": "code",
   "execution_count": null,
   "metadata": {},
   "outputs": [],
   "source": [
    "brit_root_tweets = df_root_sent[(df_root_sent[\"user_id_str\"] == 18332190) & (df_root_sent[\"root_level\"] == 1)]\n",
    "list_tid_brit_root = brit_root_tweets[\"id_str\"]\n",
    "\n",
    "df_replies_to_brit = df_root_sent[(df_root_sent[\"root_id\"].isin(list_tid_brit_root)) & (df_root_sent[\"root_level\"] == 2)]\n",
    "\n",
    "average_nr_of_replies_to_brit = len(df_replies_to_brit) / len(brit_root_tweets)\n",
    "negative_nr_of_replies_brit = len(df_replies_to_brit[df_replies_to_brit[\"our_sent\"] == \"negative\"])\n",
    "positive_nr_of_replies_brit = len(df_replies_to_brit[df_replies_to_brit[\"our_sent\"] == \"positive\"])\n",
    "neutral_nr_of_replies_brit = len(df_replies_to_brit[df_replies_to_brit[\"our_sent\"] == \"neutral\"])\n",
    "\n",
    "response_time_brit = list()\n",
    "for index, row in brit_root_tweets.iterrows():\n",
    "    time_root = row[\"timestamp_ms\"]\n",
    "    tid = row[\"id_str\"]\n",
    "    response_time_brit.append(((df_replies_to_brit[df_replies_to_brit[\"root_id\"] == tid][\"timestamp_ms\"] - time_root) / 3600000).mean())\n",
    "\n",
    "df_response_time_brit = pd.DataFrame(response_time_brit)\n",
    "df_response_time_brit = df_response_time_brit[(df_response_time_brit[0] < 514.501246)]"
   ]
  },
  {
   "cell_type": "markdown",
   "metadata": {},
   "source": [
    "#### Lufthansa"
   ]
  },
  {
   "cell_type": "code",
   "execution_count": null,
   "metadata": {},
   "outputs": [],
   "source": [
    "luft_root_tweets = df_root_sent[(df_root_sent[\"user_id_str\"] == 124476322) & (df_root_sent[\"root_level\"] == 1)]\n",
    "list_tid_luft_root = luft_root_tweets[\"id_str\"]\n",
    "\n",
    "df_replies_to_luft = df_root_sent[(df_root_sent[\"root_id\"].isin(list_tid_luft_root)) & (df_root_sent[\"root_level\"] == 2)]\n",
    "\n",
    "average_nr_of_replies_to_luft = len(df_replies_to_luft) / len(luft_root_tweets)\n",
    "negative_nr_of_replies_luft = len(df_replies_to_luft[df_replies_to_luft[\"our_sent\"] == \"negative\"])\n",
    "positive_nr_of_replies_luft = len(df_replies_to_luft[df_replies_to_luft[\"our_sent\"] == \"positive\"])\n",
    "neutral_nr_of_replies_luft = len(df_replies_to_luft[df_replies_to_luft[\"our_sent\"] == \"neutral\"])\n",
    "\n",
    "response_time_luft = list()\n",
    "for index, row in luft_root_tweets.iterrows():\n",
    "    time_root = row[\"timestamp_ms\"]\n",
    "    tid = row[\"id_str\"]\n",
    "    response_time_luft.append(((df_replies_to_luft[df_replies_to_luft[\"root_id\"] == tid][\"timestamp_ms\"] - time_root) / 3600000).mean())\n",
    "\n",
    "df_response_time_luft = pd.DataFrame(response_time_luft)\n",
    "df_response_time_luft = df_response_time_luft[(df_response_time_luft[0] < 262.004936)]"
   ]
  },
  {
   "cell_type": "markdown",
   "metadata": {},
   "source": [
    "#### RyanAir"
   ]
  },
  {
   "cell_type": "code",
   "execution_count": null,
   "metadata": {},
   "outputs": [],
   "source": [
    "ra_root_tweets = df_root_sent[(df_root_sent[\"user_id_str\"] == 1542862735) & (df_root_sent[\"root_level\"] == 1)]\n",
    "list_tid_ra_root = ra_root_tweets[\"id_str\"]\n",
    "\n",
    "df_replies_to_ra = df_root_sent[(df_root_sent[\"root_id\"].isin(list_tid_ra_root)) & (df_root_sent[\"root_level\"] == 2)]\n",
    "\n",
    "average_nr_of_replies_to_ra = len(df_replies_to_ra) / len(ra_root_tweets)\n",
    "negative_nr_of_replies_ra = len(df_replies_to_ra[df_replies_to_ra[\"our_sent\"] == \"negative\"])\n",
    "positive_nr_of_replies_ra = len(df_replies_to_ra[df_replies_to_ra[\"our_sent\"] == \"positive\"])\n",
    "neutral_nr_of_replies_ra = len(df_replies_to_ra[df_replies_to_ra[\"our_sent\"] == \"neutral\"])\n",
    "\n",
    "response_time_ra = list()\n",
    "for index, row in ra_root_tweets.iterrows():\n",
    "    time_root = row[\"timestamp_ms\"]\n",
    "    tid = row[\"id_str\"]\n",
    "    response_time_ra.append(((df_replies_to_ra[df_replies_to_ra[\"root_id\"] == tid][\"timestamp_ms\"] - time_root) / 3600000).mean())\n",
    "\n",
    "df_response_time_ra = pd.DataFrame(response_time_ra)\n",
    "df_response_time_ra = df_response_time_ra[(df_response_time_ra[0] < 47.780104)]"
   ]
  },
  {
   "cell_type": "markdown",
   "metadata": {},
   "source": [
    "#### Created merged dataframe"
   ]
  },
  {
   "cell_type": "code",
   "execution_count": null,
   "metadata": {},
   "outputs": [],
   "source": [
    "df_response_time_klm[\"airline\"] = \"KLM\"\n",
    "df_response_time_brit[\"airline\"] = \"British Airways\"\n",
    "df_response_time_luft[\"airline\"] = \"Lufthansa\"\n",
    "df_response_time_ra[\"airline\"] = \"Ryanair\"\n",
    "\n",
    "df_every_airline = pd.concat([df_response_time_klm, df_response_time_brit, df_response_time_luft, df_response_time_ra])"
   ]
  },
  {
   "cell_type": "markdown",
   "metadata": {},
   "source": [
    "#### Box plot of the response time of airlines"
   ]
  },
  {
   "cell_type": "code",
   "execution_count": null,
   "metadata": {},
   "outputs": [],
   "source": [
    "fig, ax = plt.subplots(figsize=(10, 7))\n",
    "sns.boxplot(data=df_every_airline, x=\"airline\", y=0, ax=ax)\n",
    "ax.set_ylabel(\"Response time (min)\")\n",
    "ax.set_xlabel(\"Airline\")\n",
    "ax.set_ylim(-5, 400)\n",
    "ax.set_title(\"Response Times per Airline\", size=16);   "
   ]
  },
  {
   "cell_type": "markdown",
   "metadata": {},
   "source": [
    "#### Sentiment analysis on tweets of the different airlines"
   ]
  },
  {
   "cell_type": "code",
   "execution_count": null,
   "metadata": {},
   "outputs": [],
   "source": [
    "percentage_negative_klm = negative_nr_of_replies_klm / len(df_replies_to_klm) * 100\n",
    "percentage_positive_klm = positive_nr_of_replies_klm / len(df_replies_to_klm) * 100\n",
    "percentage_neutral_klm = neutral_nr_of_replies_klm / len(df_replies_to_klm) * 100\n",
    "\n",
    "percentage_negative_brit = negative_nr_of_replies_brit / len(df_replies_to_brit) * 100\n",
    "percentage_positive_brit = positive_nr_of_replies_brit / len(df_replies_to_brit) * 100\n",
    "percentage_neutral_brit = neutral_nr_of_replies_brit / len(df_replies_to_brit) * 100\n",
    "\n",
    "percentage_negative_luft = negative_nr_of_replies_luft / len(df_replies_to_luft) * 100\n",
    "percentage_positive_luft = positive_nr_of_replies_luft / len(df_replies_to_luft) * 100\n",
    "percentage_neutral_luft = neutral_nr_of_replies_luft / len(df_replies_to_luft) * 100\n",
    "\n",
    "percentage_negative_ra = negative_nr_of_replies_ra / len(df_replies_to_ra) * 100\n",
    "percentage_positive_ra = positive_nr_of_replies_ra / len(df_replies_to_ra) * 100\n",
    "percentage_neutral_ra = neutral_nr_of_replies_ra / len(df_replies_to_ra) * 100\n",
    "\n",
    "percentage_sent_replies = pd.DataFrame(\n",
    "    data={\n",
    "        \"Sentiment\": [\"negative\", \"neutral\", \"positive\"],\n",
    "        \"KLM\": [percentage_negative_klm, percentage_neutral_klm, percentage_positive_klm],\n",
    "        \"British Airways\": [percentage_negative_brit, percentage_neutral_brit, percentage_positive_brit],\n",
    "        \"Lufthansa\": [percentage_negative_luft, percentage_neutral_luft, percentage_positive_luft],\n",
    "        \"Ryanair\": [percentage_negative_ra, percentage_neutral_ra, percentage_positive_ra]\n",
    "    }\n",
    ")\n",
    "\n",
    "fig, ax = plt.subplots(figsize=(10, 7))\n",
    "sns.set()\n",
    "percentage_sent_replies.set_index('Sentiment').T.plot(kind='bar', stacked=True, color=[\"#d62728\", \"#ff7f0e\", \"#2ca02c\"], ax=ax)\n",
    "ax.set_title(\"Sentiment of Replies to Airline Tweets\", size=16)\n",
    "ax.set_ylabel(\"Percentage of Tweets\")\n",
    "ax.set_xlabel(\"Airline\")\n",
    "for tick in ax.get_xticklabels():\n",
    "    tick.set_rotation(0);"
   ]
  },
  {
   "cell_type": "markdown",
   "metadata": {},
   "source": [
    "#### Average number of replies and number of root tweets for different airlines"
   ]
  },
  {
   "cell_type": "code",
   "execution_count": null,
   "metadata": {},
   "outputs": [],
   "source": [
    "total_volume_df = pd.DataFrame(\n",
    "    data={\n",
    "        \"Airline\": [\"KLM\", \"British Airways\", \"Lufthansa\", \"Ryanair\"], \n",
    "        \"Number of root tweets\": [len(klm_root_tweets), len(brit_root_tweets), len(luft_root_tweets), len(ra_root_tweets)], \n",
    "        \"Average number of replies per conversation\": [int(round(average_nr_of_replies_to_klm, 0)), int(round(average_nr_of_replies_to_brit, 0)), int(round(average_nr_of_replies_to_luft, 0)), int(round(average_nr_of_replies_to_ra, 0))]\n",
    "    }\n",
    ")\n",
    "total_volume_df"
   ]
  },
  {
   "cell_type": "markdown",
   "metadata": {},
   "source": [
    "#### ABA conversations visualizations and analysis"
   ]
  },
  {
   "cell_type": "markdown",
   "metadata": {},
   "source": [
    "#### Proportion of categories of change in sentiment per airline"
   ]
  },
  {
   "cell_type": "code",
   "execution_count": null,
   "metadata": {},
   "outputs": [],
   "source": [
    "df_aba = df_aba_sent[df_aba_sent['aba_level'] == 2]\n",
    "df_aba_klm = df_aba[df_aba['user_id_str'] == 56377143]\n",
    "df_aba_brit = df_aba[df_aba['user_id_str'] == 18332190]\n",
    "df_aba_ryan = df_aba[df_aba['user_id_str'] == 1542862735]\n",
    "df_aba_luft = df_aba[df_aba['user_id_str'] == 124476322]"
   ]
  },
  {
   "cell_type": "markdown",
   "metadata": {},
   "source": [
    "#### Changing data into countable variables"
   ]
  },
  {
   "cell_type": "code",
   "execution_count": null,
   "metadata": {},
   "outputs": [],
   "source": [
    "data_klm = {'Positive change': df_aba_klm['our_sent'][df_aba_klm['our_sent'] == 'Positive change'].count(),\n",
    "        'No change': df_aba_klm['our_sent'][df_aba_klm['our_sent'] == 'No change'].count(),\n",
    "        'Negative change': df_aba_klm['our_sent'][df_aba_klm['our_sent'] == 'Negative change'].count()}\n",
    "\n",
    "change_klm = list(data_klm.keys())\n",
    "value_klm = list(data_klm.values())\n",
    "\n",
    "\n",
    "data_brit = {'Positive change': df_aba_brit['our_sent'][df_aba_brit['our_sent'] == 'Positive change'].count(),\n",
    "        'No change': df_aba_brit['our_sent'][df_aba_brit['our_sent'] == 'No change'].count(),\n",
    "        'Negative change': df_aba_brit['our_sent'][df_aba_brit['our_sent'] == 'Negative change'].count()}\n",
    "\n",
    "change_brit = list(data_brit.keys())\n",
    "value_brit = list(data_brit.values())\n",
    "\n",
    "\n",
    "data_ryan = {'Positive change': df_aba_ryan['our_sent'][df_aba_ryan['our_sent'] == 'Positive change'].count(),\n",
    "        'No change': df_aba_ryan['our_sent'][df_aba_ryan['our_sent'] == 'No change'].count(),\n",
    "        'Negative change': df_aba_ryan['our_sent'][df_aba_ryan['our_sent'] == 'Negative change'].count()}\n",
    "\n",
    "change_ryan = list(data_ryan.keys())\n",
    "value_ryan = list(data_ryan.values())\n",
    "\n",
    "\n",
    "data_luft = {'Positive change': df_aba_luft['our_sent'][df_aba_luft['our_sent'] == 'Positive change'].count(),\n",
    "        'No change': df_aba_luft['our_sent'][df_aba_luft['our_sent'] == 'No change'].count(),\n",
    "        'Negative change': df_aba_luft['our_sent'][df_aba_luft['our_sent'] == 'Negative change'].count()}\n",
    "\n",
    "change_luft = list(data_luft.keys())\n",
    "value_luft = list(data_luft.values())"
   ]
  },
  {
   "cell_type": "code",
   "execution_count": null,
   "metadata": {},
   "outputs": [],
   "source": [
    "aba_total = {\n",
    "    'British Airways':sum(value_brit),\n",
    "    'KLM':sum(value_klm),\n",
    "    'Lufthansa':sum(value_luft),\n",
    "    'Ryanair':sum(value_ryan)\n",
    "}"
   ]
  },
  {
   "cell_type": "markdown",
   "metadata": {},
   "source": [
    "#### Creating bar plots for the different airlines with the percentage of different types of sentiment"
   ]
  },
  {
   "cell_type": "code",
   "execution_count": null,
   "metadata": {},
   "outputs": [],
   "source": [
    "def vis_magic(df: 'DataFrame', airline: 'str'):\n",
    "    new_df = df['our_sent'].value_counts(normalize=True)\n",
    "    new_df = new_df.mul(100).rename('Percent').reset_index()\n",
    "    g = sns.catplot(x='index', y='Percent', kind='bar', data=new_df, palette=sns.color_palette([\"#ff7f0e\",  \"#2ca02c\",\"#d62728\"]))\n",
    "    g.ax.set_ylabel('Percent', fontsize=15)\n",
    "    g.ax.set_xlabel(airline, fontsize=17)\n",
    "    g.ax.tick_params(labelsize=14)\n",
    "    g.ax.set_ylim(0,65)\n",
    "    for p in g.ax.patches:\n",
    "        txt = '      ' + str(p.get_height().round(1)) + '%'\n",
    "        txt_x = p.get_x()\n",
    "        txt_y = p.get_height() + 1\n",
    "        g.ax.text(txt_x,txt_y,txt,fontsize=15)\n",
    "        current_width = p.get_width()\n",
    "        diff = current_width - 0.7\n",
    "        p.set_width(0.7)\n",
    "        p.set_x(p.get_x() + diff * .5)\n",
    "    g.ax.annotate(\"Total ABA conversations: \"+str(aba_total[airline]), xy=(300, 300), xycoords='axes points', size=14, ha='right', va='top', bbox=dict(boxstyle='round', fc='w'))"
   ]
  },
  {
   "cell_type": "code",
   "execution_count": null,
   "metadata": {
    "scrolled": false
   },
   "outputs": [],
   "source": [
    "vis_magic(df_aba_brit, 'British Airways'),vis_magic(df_aba_klm, 'KLM'), vis_magic(df_aba_luft, 'Lufthansa'), vis_magic(df_aba_ryan,'Ryanair');"
   ]
  },
  {
   "cell_type": "markdown",
   "metadata": {},
   "source": [
    "#### Response time per category of change in sentiment"
   ]
  },
  {
   "cell_type": "code",
   "execution_count": null,
   "metadata": {},
   "outputs": [],
   "source": [
    "response_list1=[]\n",
    "\n",
    "for aba_id, data in df_aba_sent.groupby(\"aba_id\"): \n",
    "    aba_group = df_aba_sent[df_aba_sent[\"aba_id\"] == aba_id]\n",
    "    \n",
    "    for level, row in aba_group.groupby(\"aba_level\"): \n",
    "        if level==1:\n",
    "            time1=int(row['timestamp_ms'])\n",
    "        elif level==2:\n",
    "            time2=int(row['timestamp_ms'])\n",
    "    response_list1.append(time2-time1)"
   ]
  },
  {
   "cell_type": "code",
   "execution_count": null,
   "metadata": {},
   "outputs": [],
   "source": [
    "response_list2=[]\n",
    "\n",
    "for i in response_list1:\n",
    "    response_list2.append(int(round((i/(1000*60))%60,0)))"
   ]
  },
  {
   "cell_type": "code",
   "execution_count": null,
   "metadata": {},
   "outputs": [],
   "source": [
    "df_aba_sent.loc[df_aba_sent['aba_level']==2,'timestamp_ms'] = response_list2"
   ]
  },
  {
   "cell_type": "markdown",
   "metadata": {},
   "source": [
    "#### Creating the corresponding violin plot"
   ]
  },
  {
   "cell_type": "code",
   "execution_count": null,
   "metadata": {},
   "outputs": [],
   "source": [
    "plot = sns.violinplot(data=df_aba_sent[df_aba_sent['aba_level']==2], x='our_sent', y='timestamp_ms', palette=sns.color_palette([\"#2ca02c\", \"#ff7f0e\",\"#d62728\"]))\n",
    "plot.set_ylabel('Response time (in minutes)', fontsize=14)\n",
    "plot.set_xlabel('')\n",
    "plot.tick_params(labelsize=14)\n",
    "plot.set_title('Response time per category of change in sentiment', fontsize=14);"
   ]
  },
  {
   "cell_type": "markdown",
   "metadata": {},
   "source": [
    "#### Creating the word cloud which will consist of frequently used negative tweets KLM received"
   ]
  },
  {
   "cell_type": "code",
   "execution_count": null,
   "metadata": {},
   "outputs": [],
   "source": [
    "change_list=[]\n",
    "for aba_id, data in df_aba_sent.groupby(\"aba_id\"): \n",
    "    aba_group = df_aba_sent[df_aba_sent[\"aba_id\"] == aba_id]\n",
    "    \n",
    "    for level, row in aba_group.groupby(\"aba_level\"):\n",
    "        if level==2:\n",
    "            for i in range(aba_group.shape[0]):\n",
    "                change_list.append(int(row['user_id_str']))"
   ]
  },
  {
   "cell_type": "code",
   "execution_count": null,
   "metadata": {},
   "outputs": [],
   "source": [
    "df_aba_sent.loc[:,'airline_id'] = change_list"
   ]
  },
  {
   "cell_type": "code",
   "execution_count": null,
   "metadata": {},
   "outputs": [],
   "source": [
    "neg_sent = df_aba_sent[(df_aba_sent['our_sent']=='negative') & (df_aba_sent['airline_id']==airlines['KLM'])]\n",
    "neg_words = ''.join([text for text in neg_sent['full_text']])\n",
    " \n",
    "bad_words = ['food', 'time', 'hour', 'wait', 'miss', 'suck','fuck','shit','seat','loud','fix','line','lost','lose','bag','talk',\n",
    "             'flew','call','fast','slow','pay','long','care','shame','', 'KLM', 'https', 'airport', 'another', 'Amsterdam','airline', 'someone','flying',\n",
    "            'people', 'answer', 'nothing','flight','need', 'please', 'see','give','ask','without','company','you','u','really','DM','problem','fly','amp','Amsterdam','think','K L M','klm',\n",
    "             '@KLM','Heather Yemm','don\\'t','\\s','one','http','KLM\\'s']\n",
    "\n",
    "final_list = [word for word in neg_words.split() if word not in bad_words]\n",
    "neg_words = ' '.join([word for word in final_list])\n",
    "    \n",
    "wordcloud = WordCloud(\n",
    "    stopwords=STOPWORDS,\n",
    "    background_color='black',\n",
    "    width=1000,\n",
    "    height=600\n",
    ").generate(neg_words)\n",
    "plt.figure(1,figsize=(12, 12))\n",
    "plt.imshow(wordcloud)\n",
    "plt.axis('off')\n",
    "plt.title('Most used words in negative tweets')\n",
    "plt.show()"
   ]
  },
  {
   "cell_type": "markdown",
   "metadata": {},
   "source": [
    "#### The end! Thank you for taking the time to take a look at our project, hopefully it was interesting / educative"
   ]
  },
  {
   "cell_type": "code",
   "execution_count": null,
   "metadata": {},
   "outputs": [],
   "source": []
  }
 ],
 "metadata": {
  "kernelspec": {
   "display_name": "Python 3",
   "language": "python",
   "name": "python3"
  },
  "language_info": {
   "codemirror_mode": {
    "name": "ipython",
    "version": 3
   },
   "file_extension": ".py",
   "mimetype": "text/x-python",
   "name": "python",
   "nbconvert_exporter": "python",
   "pygments_lexer": "ipython3",
   "version": "3.8.5"
  }
 },
 "nbformat": 4,
 "nbformat_minor": 5
}
