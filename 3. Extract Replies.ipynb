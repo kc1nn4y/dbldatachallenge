{
 "cells": [
  {
   "cell_type": "markdown",
   "metadata": {},
   "source": [
    "#### Import the required libraries"
   ]
  },
  {
   "cell_type": "code",
   "execution_count": null,
   "metadata": {},
   "outputs": [],
   "source": [
    "import psycopg2 as psy\n",
    "import pandas as pd\n",
    "import json\n",
    "import os\n",
    "import time"
   ]
  },
  {
   "cell_type": "markdown",
   "metadata": {},
   "source": [
    "#### Establish a connection with the database"
   ]
  },
  {
   "cell_type": "code",
   "execution_count": null,
   "metadata": {},
   "outputs": [],
   "source": [
    "database_host = \"localhost\"\n",
    "database_name = \"dbl_data_challenge\"\n",
    "database_user = \"admin\"\n",
    "database_pass = \"vZtbqKNXGz27cQCH\""
   ]
  },
  {
   "cell_type": "code",
   "execution_count": null,
   "metadata": {},
   "outputs": [],
   "source": [
    "con = psy.connect(\n",
    "    host = database_host,\n",
    "    database = database_name,\n",
    "    user = database_user,\n",
    "    password = database_pass\n",
    ")\n",
    "cur = con.cursor()"
   ]
  },
  {
   "cell_type": "markdown",
   "metadata": {},
   "source": [
    "#### Create a table for the replies"
   ]
  },
  {
   "cell_type": "code",
   "execution_count": null,
   "metadata": {},
   "outputs": [],
   "source": [
    "cur.execute(\"DROP TABLE IF EXISTS replies\")"
   ]
  },
  {
   "cell_type": "code",
   "execution_count": null,
   "metadata": {},
   "outputs": [],
   "source": [
    "cur.execute(\"\"\"\n",
    "    CREATE TABLE replies\n",
    "        (\n",
    "            id_str TEXT DEFAULT NULL,\n",
    "            in_reply_to_status_id_str TEXT DEFAULT NULL\n",
    "        )\n",
    "\"\"\")"
   ]
  },
  {
   "cell_type": "markdown",
   "metadata": {},
   "source": [
    "#### Loads a given data array with values into the database"
   ]
  },
  {
   "cell_type": "code",
   "execution_count": null,
   "metadata": {},
   "outputs": [],
   "source": [
    "def insert_into_database(data): \n",
    "    cur.execute(\"\"\"INSERT INTO replies (\n",
    "        id_str,\n",
    "        in_reply_to_status_id_str\n",
    "    )\n",
    "    VALUES (%s, %s)\"\"\", (data[0],data[1]))\n",
    "    con.commit()"
   ]
  },
  {
   "cell_type": "markdown",
   "metadata": {},
   "source": [
    "#### This cell uses the same technique as with the extraction of the conversations to extract reply pairs"
   ]
  },
  {
   "cell_type": "code",
   "execution_count": null,
   "metadata": {
    "scrolled": true
   },
   "outputs": [],
   "source": [
    "cur.execute(\"\"\"\n",
    "    SELECT id_str, in_reply_to_status_id_str FROM tweets\n",
    "\"\"\")\n",
    "\n",
    "convo_pairs = {}\n",
    "reverse_pairs = {}\n",
    "\n",
    "data = cur.fetchall()\n",
    "\n",
    "for row in data: \n",
    "    convo_pairs[row[0]] = row[1]\n",
    "\n",
    "for row in data: \n",
    "    if row[1] in reverse_pairs: \n",
    "        reverse_pairs[row[1]].append(row[0])\n",
    "    else: \n",
    "        reverse_pairs[row[1]] = [row[0]]\n",
    "    \n",
    "del reverse_pairs[None]\n",
    "\n",
    "start = time.time()\n",
    "\n",
    "for idx, id_str in enumerate(reverse_pairs): \n",
    "    for reply in reverse_pairs[id_str]: \n",
    "        data = [\n",
    "            id_str,\n",
    "            reply\n",
    "        ]\n",
    "        insert_into_database(data)\n",
    "    if (idx+1) % 10000 == 0: \n",
    "        end = time.time()\n",
    "        print(\"Retrieved replies for \"+str(idx+1)+\" tweets in \"+str(end-start)+\" seconds\")\n",
    "        start = time.time()"
   ]
  },
  {
   "cell_type": "code",
   "execution_count": null,
   "metadata": {},
   "outputs": [],
   "source": [
    "cur.close()\n",
    "con.close()"
   ]
  },
  {
   "cell_type": "code",
   "execution_count": null,
   "metadata": {},
   "outputs": [],
   "source": []
  }
 ],
 "metadata": {
  "kernelspec": {
   "display_name": "Python 3",
   "language": "python",
   "name": "python3"
  },
  "language_info": {
   "codemirror_mode": {
    "name": "ipython",
    "version": 3
   },
   "file_extension": ".py",
   "mimetype": "text/x-python",
   "name": "python",
   "nbconvert_exporter": "python",
   "pygments_lexer": "ipython3",
   "version": "3.8.5"
  }
 },
 "nbformat": 4,
 "nbformat_minor": 4
}
