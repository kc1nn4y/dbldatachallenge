{
 "cells": [
  {
   "cell_type": "markdown",
   "metadata": {},
   "source": [
    "#### Ensuring that all the required libraries are installed"
   ]
  },
  {
   "cell_type": "code",
   "execution_count": null,
   "metadata": {},
   "outputs": [],
   "source": [
    "pip install psycopg2 pandas numpy sklearn searborn nltk emoji matplotlib json os time re strings"
   ]
  },
  {
   "cell_type": "markdown",
   "metadata": {},
   "source": [
    "#### Import the required libraries"
   ]
  },
  {
   "cell_type": "code",
   "execution_count": null,
   "metadata": {},
   "outputs": [],
   "source": [
    "import psycopg2 as psy\n",
    "import json\n",
    "import os\n",
    "import time"
   ]
  },
  {
   "cell_type": "code",
   "execution_count": null,
   "metadata": {},
   "outputs": [],
   "source": [
    "from emoji import UNICODE_EMOJI"
   ]
  },
  {
   "cell_type": "markdown",
   "metadata": {},
   "source": [
    "#### Establish connection with the PostgreSQL database"
   ]
  },
  {
   "cell_type": "code",
   "execution_count": null,
   "metadata": {},
   "outputs": [],
   "source": [
    "database_host = \"localhost\"\n",
    "database_name = \"dbl\"\n",
    "database_user = \"kcinnay\"\n",
    "database_pass = \"DBL01\""
   ]
  },
  {
   "cell_type": "code",
   "execution_count": null,
   "metadata": {},
   "outputs": [],
   "source": [
    "con = psy.connect(\n",
    "    host = database_host,\n",
    "    database = database_name,\n",
    "    user = database_user,\n",
    "    password = database_pass\n",
    ")\n",
    "cur = con.cursor()"
   ]
  },
  {
   "cell_type": "markdown",
   "metadata": {},
   "source": [
    "#### Create a table in the database to store the tweet data in"
   ]
  },
  {
   "cell_type": "code",
   "execution_count": null,
   "metadata": {},
   "outputs": [],
   "source": [
    "cur.execute(\"DROP TABLE IF EXISTS tweets\")"
   ]
  },
  {
   "cell_type": "code",
   "execution_count": null,
   "metadata": {},
   "outputs": [],
   "source": [
    "cur.execute(\"\"\"\n",
    "    CREATE TABLE tweets\n",
    "        (\n",
    "            created_at TIMESTAMPTZ DEFAULT NULL,\n",
    "            timestamp_ms TEXT DEFAULT NULL,\n",
    "\n",
    "            id_str TEXT PRIMARY KEY,\n",
    "\n",
    "            user_id_str TEXT DEFAULT NULL,\n",
    "            user_name TEXT DEFAULT NULL,\n",
    "            user_created_at TIMESTAMPTZ DEFAULT NULL,\n",
    "            user_followers INT DEFAULT NULL,\n",
    "            user_statuses INT DEFAULT NULL,\n",
    "            user_favourites INT DEFAULT NULL,\n",
    "\n",
    "            full_text TEXT DEFAULT NULL,\n",
    "\n",
    "            in_reply_to_status_id_str TEXT DEFAULT NULL,\n",
    "            in_reply_to_user_id_str TEXT DEFAULT NULL,\n",
    "            in_reply_to_screen_name TEXT DEFAULT NULL,\n",
    "\n",
    "            quoted_status_id_str TEXT DEFAULT NULL,\n",
    "\n",
    "            contains_emoji BOOLEAN DEFAULT NULL\n",
    "        )\n",
    "\"\"\")"
   ]
  },
  {
   "cell_type": "markdown",
   "metadata": {},
   "source": [
    "#### Attributes of a tweet object\n",
    "'created_at',  \n",
    "'id',  \n",
    "'id_str',  \n",
    "'text',  \n",
    "'source',  \n",
    "'truncated',  \n",
    "'in_reply_to_status_id',  \n",
    "'in_reply_to_status_id_str',  \n",
    "'in_reply_to_user_id',  \n",
    "'in_reply_to_user_id_str',  \n",
    "'in_reply_to_screen_name',  \n",
    "'user',  \n",
    "'geo',  \n",
    "'coordinates',  \n",
    "'place',  \n",
    "'contributors',  \n",
    "'retweeted_status',  \n",
    "'is_quote_status',  \n",
    "'quote_count',  \n",
    "'reply_count',  \n",
    "'retweet_count',  \n",
    "'favorite_count',  \n",
    "'entities',  \n",
    "'favorited',  \n",
    "'retweeted',  \n",
    "'filter_level',  \n",
    "'lang',  \n",
    "'timestamp_ms'"
   ]
  },
  {
   "cell_type": "markdown",
   "metadata": {},
   "source": [
    "#### Database columns and their datatype\n",
    "**created_at** TIMESTAMPTZ DEFAULT NULL  \n",
    "**timestamp_ms** TEXT DEFAULT NULL  \n",
    " \n",
    "**id_str** TEXT DEFAULT NULL  \n",
    " \n",
    "**user_id_str** TEXT DEFAULT NULL  \n",
    "**user_name** TEXT DEFAULT NULL  \n",
    "**user_created_at** TIMESTAMPTZ DEFAULT NULL  \n",
    "**user_followers** INT DEFAULT NULL   \n",
    "**user_statuses** INT DEFAULT NULL   \n",
    "**user_favourites** INT DEFAULT NULL  \n",
    " \n",
    "**full_text** TEXT DEFAULT NULL  \n",
    " \n",
    "**in_reply_to_status_id_str** TEXT DEFAULT NULL  \n",
    "**in_reply_to_user_id_str** TEXT DEFAULT NULL  \n",
    "**in_reply_to_screen_name** TEXT DEFAULT NULL  \n",
    " \n",
    "**quoted_status_id_str** TEXT DEFAULT NULL  \n",
    " \n",
    "**contains_emoji** BOOLEAN DEFAULT NULL  "
   ]
  },
  {
   "cell_type": "markdown",
   "metadata": {},
   "source": [
    "#### Initializing the error counters"
   ]
  },
  {
   "cell_type": "code",
   "execution_count": null,
   "metadata": {},
   "outputs": [],
   "source": [
    "errors = {\n",
    "    \"total_tweets\": 0,\n",
    "    \"empty\": 0,\n",
    "    \"json\": 0,\n",
    "    \"filter\": 0,\n",
    "    \"duplicate\": 0\n",
    "}"
   ]
  },
  {
   "cell_type": "markdown",
   "metadata": {},
   "source": [
    "#### This function checks if a tweet is parseable"
   ]
  },
  {
   "cell_type": "code",
   "execution_count": null,
   "metadata": {},
   "outputs": [],
   "source": [
    "def tweet_parseable(tweet): \n",
    "    if not tweet.strip(): \n",
    "        errors[\"empty\"] += 1\n",
    "        return False\n",
    "    try: \n",
    "        return json.loads(tweet)\n",
    "    except: \n",
    "        errors[\"json\"] += 1\n",
    "        return False"
   ]
  },
  {
   "cell_type": "markdown",
   "metadata": {},
   "source": [
    "#### Functions that return values which can be inserted into the database"
   ]
  },
  {
   "cell_type": "code",
   "execution_count": null,
   "metadata": {},
   "outputs": [],
   "source": [
    "def created_at(tweet): \n",
    "    return tweet[\"created_at\"]\n",
    "def timestamp_ms(tweet): \n",
    "    return tweet[\"timestamp_ms\"]\n",
    "\n",
    "def id_str(tweet): \n",
    "    return tweet[\"id_str\"]\n",
    "\n",
    "def user_id_str(tweet): \n",
    "    return tweet[\"user\"][\"id_str\"]\n",
    "def user_name(tweet): \n",
    "    return tweet[\"user\"][\"name\"]\n",
    "def user_created_at(tweet): \n",
    "    return tweet[\"user\"][\"created_at\"]\n",
    "def user_followers(tweet): \n",
    "    return tweet[\"user\"][\"followers_count\"]\n",
    "def user_statuses(tweet): \n",
    "    return tweet[\"user\"][\"statuses_count\"]\n",
    "def user_favourites(tweet): \n",
    "    return tweet[\"user\"][\"favourites_count\"]\n",
    "\n",
    "def full_text(tweet): \n",
    "    try: \n",
    "        return tweet[\"extended_tweet\"][\"full_text\"]\n",
    "    except: \n",
    "        return tweet[\"text\"]\n",
    "    \n",
    "def in_reply_to_status_id_str(tweet): \n",
    "    return tweet[\"in_reply_to_status_id_str\"]\n",
    "def in_reply_to_user_id_str(tweet): \n",
    "    return tweet[\"in_reply_to_user_id_str\"]\n",
    "def in_reply_to_screen_name(tweet): \n",
    "    return tweet[\"in_reply_to_screen_name\"]\n",
    "\n",
    "def quoted_status_id_str(tweet): \n",
    "    try: \n",
    "        return tweet[\"quoted_status_id_str\"]\n",
    "    except: \n",
    "        return None\n",
    "\n",
    "def contains_emoji(tweet): \n",
    "    for letter in full_text(tweet): \n",
    "        if letter in UNICODE_EMOJI[\"en\"]: \n",
    "            return True\n",
    "    return False"
   ]
  },
  {
   "cell_type": "markdown",
   "metadata": {},
   "source": [
    "#### Filter the tweet based on certain criteria"
   ]
  },
  {
   "cell_type": "code",
   "execution_count": null,
   "metadata": {},
   "outputs": [],
   "source": [
    "def is_delete(tweet): \n",
    "    return \"delete\" in tweet.keys()\n",
    "\n",
    "def is_retweet(tweet): \n",
    "    try: \n",
    "        tweet[\"retweeted_status\"]\n",
    "        return True\n",
    "    except: \n",
    "        return False\n",
    "\n",
    "def is_not_english(tweet): \n",
    "    if tweet[\"lang\"] == \"en\": \n",
    "        return False\n",
    "    return True\n",
    "\n",
    "def has_no_emojis(tweet): \n",
    "    if tweet[\"lang\"] == \"und\": \n",
    "        if contains_emoji(tweet): \n",
    "            return False\n",
    "    return True"
   ]
  },
  {
   "cell_type": "code",
   "execution_count": null,
   "metadata": {},
   "outputs": [],
   "source": [
    "def filter_tweet(tweet): \n",
    "    if is_delete(tweet): \n",
    "        errors[\"filter\"] += 1\n",
    "        return False\n",
    "    if is_retweet(tweet): \n",
    "        errors[\"filter\"] += 1\n",
    "        return False\n",
    "    if is_not_english(tweet): \n",
    "        if has_no_emojis(tweet): \n",
    "            errors[\"filter\"] += 1\n",
    "            return False\n",
    "    return True"
   ]
  },
  {
   "cell_type": "markdown",
   "metadata": {},
   "source": [
    "#### Loads a given data array with values into the database"
   ]
  },
  {
   "cell_type": "code",
   "execution_count": null,
   "metadata": {},
   "outputs": [],
   "source": [
    "def insert_into_database(data): \n",
    "    try: \n",
    "        cur.execute(\"\"\"INSERT INTO tweets (\n",
    "            created_at,\n",
    "            timestamp_ms,\n",
    "\n",
    "            id_str,\n",
    "\n",
    "            user_id_str,\n",
    "            user_name,\n",
    "            user_created_at,\n",
    "            user_followers,\n",
    "            user_statuses,\n",
    "            user_favourites,\n",
    "\n",
    "            full_text,\n",
    "\n",
    "            in_reply_to_status_id_str,\n",
    "            in_reply_to_user_id_str,\n",
    "            in_reply_to_screen_name,\n",
    "\n",
    "            quoted_status_id_str,\n",
    "\n",
    "            contains_emoji\n",
    "        )\n",
    "        VALUES (%s, %s, %s, %s, %s, %s, %s, %s, %s, %s, %s, %s, %s, %s, %s)\"\"\", (data[0],data[1],data[2],data[3],data[4],data[5],data[6],data[7],data[8],data[9],data[10],data[11],data[12],data[13],data[14]))\n",
    "        con.commit()\n",
    "    except Exception as e: \n",
    "        con.commit()\n",
    "        errors[\"duplicate\"] += 1"
   ]
  },
  {
   "cell_type": "markdown",
   "metadata": {},
   "source": [
    "#### This reads all of the files in the folder called data, and subsequently extracts all the tweets and their values by using the above helper functions"
   ]
  },
  {
   "cell_type": "code",
   "execution_count": null,
   "metadata": {
    "scrolled": true
   },
   "outputs": [],
   "source": [
    "files = os.listdir(\"data\")\n",
    "\n",
    "for idx, file in enumerate(files): \n",
    "    print(\"Processing file \"+str(idx+1)+\" / \"+str(len(files))+\"...\")\n",
    "    start = time.time()\n",
    "    with open(\"data/\"+file, 'rb') as f: \n",
    "        for tweetline in f.readlines(): \n",
    "            errors[\"total_tweets\"] += 1\n",
    "            tweet = tweet_parseable(tweetline)\n",
    "            if tweet: \n",
    "                if filter_tweet(tweet): \n",
    "                    data = [\n",
    "                        created_at(tweet),\n",
    "                        timestamp_ms(tweet),\n",
    "\n",
    "                        id_str(tweet),\n",
    "\n",
    "                        user_id_str(tweet),\n",
    "                        user_name(tweet),\n",
    "                        user_created_at(tweet),\n",
    "                        user_followers(tweet),\n",
    "                        user_statuses(tweet),\n",
    "                        user_favourites(tweet),\n",
    "\n",
    "                        full_text(tweet),\n",
    "\n",
    "                        in_reply_to_status_id_str(tweet),\n",
    "                        in_reply_to_user_id_str(tweet),\n",
    "                        in_reply_to_screen_name(tweet),\n",
    "\n",
    "                        quoted_status_id_str(tweet),\n",
    "\n",
    "                        contains_emoji(tweet)\n",
    "                    ]\n",
    "                    insert_into_database(data)\n",
    "        end = time.time()\n",
    "        print(\"Finished in \"+str(end-start)+\" seconds\")\n",
    "        print(errors)"
   ]
  },
  {
   "cell_type": "markdown",
   "metadata": {},
   "source": [
    "#### Close connection"
   ]
  },
  {
   "cell_type": "code",
   "execution_count": null,
   "metadata": {},
   "outputs": [],
   "source": [
    "cur.close()\n",
    "con.close()"
   ]
  },
  {
   "cell_type": "code",
   "execution_count": null,
   "metadata": {},
   "outputs": [],
   "source": []
  }
 ],
 "metadata": {
  "kernelspec": {
   "display_name": "Python 3",
   "language": "python",
   "name": "python3"
  },
  "language_info": {
   "codemirror_mode": {
    "name": "ipython",
    "version": 3
   },
   "file_extension": ".py",
   "mimetype": "text/x-python",
   "name": "python",
   "nbconvert_exporter": "python",
   "pygments_lexer": "ipython3",
   "version": "3.8.5"
  }
 },
 "nbformat": 4,
 "nbformat_minor": 4
}
